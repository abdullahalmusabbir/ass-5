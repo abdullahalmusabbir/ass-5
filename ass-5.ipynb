{
 "cells": [
  {
   "cell_type": "code",
   "execution_count": 35,
   "metadata": {},
   "outputs": [],
   "source": [
    "import pandas as pd\n",
    "import numpy as np\n",
    "import matplotlib.pyplot as plt\n",
    "import seaborn as sns\n",
    "import warnings\n",
    "warnings.filterwarnings('ignore')\n",
    "from sklearn.metrics import mean_absolute_error, mean_squared_error,r2_score"
   ]
  },
  {
   "cell_type": "code",
   "execution_count": 36,
   "metadata": {},
   "outputs": [],
   "source": [
    "df = pd.read_csv('insurance.csv')"
   ]
  },
  {
   "cell_type": "code",
   "execution_count": 37,
   "metadata": {},
   "outputs": [
    {
     "data": {
      "text/html": [
       "<div>\n",
       "<style scoped>\n",
       "    .dataframe tbody tr th:only-of-type {\n",
       "        vertical-align: middle;\n",
       "    }\n",
       "\n",
       "    .dataframe tbody tr th {\n",
       "        vertical-align: top;\n",
       "    }\n",
       "\n",
       "    .dataframe thead th {\n",
       "        text-align: right;\n",
       "    }\n",
       "</style>\n",
       "<table border=\"1\" class=\"dataframe\">\n",
       "  <thead>\n",
       "    <tr style=\"text-align: right;\">\n",
       "      <th></th>\n",
       "      <th>age</th>\n",
       "      <th>sex</th>\n",
       "      <th>bmi</th>\n",
       "      <th>children</th>\n",
       "      <th>smoker</th>\n",
       "      <th>region</th>\n",
       "      <th>charges</th>\n",
       "    </tr>\n",
       "  </thead>\n",
       "  <tbody>\n",
       "    <tr>\n",
       "      <th>0</th>\n",
       "      <td>19</td>\n",
       "      <td>female</td>\n",
       "      <td>27.900</td>\n",
       "      <td>0</td>\n",
       "      <td>yes</td>\n",
       "      <td>southwest</td>\n",
       "      <td>16884.92400</td>\n",
       "    </tr>\n",
       "    <tr>\n",
       "      <th>1</th>\n",
       "      <td>18</td>\n",
       "      <td>male</td>\n",
       "      <td>33.770</td>\n",
       "      <td>1</td>\n",
       "      <td>no</td>\n",
       "      <td>southeast</td>\n",
       "      <td>1725.55230</td>\n",
       "    </tr>\n",
       "    <tr>\n",
       "      <th>2</th>\n",
       "      <td>28</td>\n",
       "      <td>male</td>\n",
       "      <td>33.000</td>\n",
       "      <td>3</td>\n",
       "      <td>no</td>\n",
       "      <td>southeast</td>\n",
       "      <td>4449.46200</td>\n",
       "    </tr>\n",
       "    <tr>\n",
       "      <th>3</th>\n",
       "      <td>33</td>\n",
       "      <td>male</td>\n",
       "      <td>22.705</td>\n",
       "      <td>0</td>\n",
       "      <td>no</td>\n",
       "      <td>northwest</td>\n",
       "      <td>21984.47061</td>\n",
       "    </tr>\n",
       "    <tr>\n",
       "      <th>4</th>\n",
       "      <td>32</td>\n",
       "      <td>male</td>\n",
       "      <td>28.880</td>\n",
       "      <td>0</td>\n",
       "      <td>no</td>\n",
       "      <td>northwest</td>\n",
       "      <td>3866.85520</td>\n",
       "    </tr>\n",
       "  </tbody>\n",
       "</table>\n",
       "</div>"
      ],
      "text/plain": [
       "   age     sex     bmi  children smoker     region      charges\n",
       "0   19  female  27.900         0    yes  southwest  16884.92400\n",
       "1   18    male  33.770         1     no  southeast   1725.55230\n",
       "2   28    male  33.000         3     no  southeast   4449.46200\n",
       "3   33    male  22.705         0     no  northwest  21984.47061\n",
       "4   32    male  28.880         0     no  northwest   3866.85520"
      ]
     },
     "execution_count": 37,
     "metadata": {},
     "output_type": "execute_result"
    }
   ],
   "source": [
    "df.head()"
   ]
  },
  {
   "cell_type": "code",
   "execution_count": 38,
   "metadata": {},
   "outputs": [
    {
     "name": "stdout",
     "output_type": "stream",
     "text": [
      "<class 'pandas.core.frame.DataFrame'>\n",
      "RangeIndex: 1338 entries, 0 to 1337\n",
      "Data columns (total 7 columns):\n",
      " #   Column    Non-Null Count  Dtype  \n",
      "---  ------    --------------  -----  \n",
      " 0   age       1338 non-null   int64  \n",
      " 1   sex       1338 non-null   object \n",
      " 2   bmi       1338 non-null   float64\n",
      " 3   children  1338 non-null   int64  \n",
      " 4   smoker    1338 non-null   object \n",
      " 5   region    1338 non-null   object \n",
      " 6   charges   1338 non-null   float64\n",
      "dtypes: float64(2), int64(2), object(3)\n",
      "memory usage: 73.3+ KB\n"
     ]
    }
   ],
   "source": [
    "df.info()"
   ]
  },
  {
   "cell_type": "code",
   "execution_count": 39,
   "metadata": {},
   "outputs": [
    {
     "data": {
      "text/plain": [
       "age         0\n",
       "sex         0\n",
       "bmi         0\n",
       "children    0\n",
       "smoker      0\n",
       "region      0\n",
       "charges     0\n",
       "dtype: int64"
      ]
     },
     "execution_count": 39,
     "metadata": {},
     "output_type": "execute_result"
    }
   ],
   "source": [
    "df.isna().sum()"
   ]
  },
  {
   "cell_type": "code",
   "execution_count": 40,
   "metadata": {},
   "outputs": [
    {
     "data": {
      "text/plain": [
       "age           47\n",
       "sex            2\n",
       "bmi          548\n",
       "children       6\n",
       "smoker         2\n",
       "region         4\n",
       "charges     1337\n",
       "dtype: int64"
      ]
     },
     "execution_count": 40,
     "metadata": {},
     "output_type": "execute_result"
    }
   ],
   "source": [
    "df.nunique()"
   ]
  },
  {
   "attachments": {},
   "cell_type": "markdown",
   "metadata": {},
   "source": [
    "Label Encoding"
   ]
  },
  {
   "cell_type": "code",
   "execution_count": 41,
   "metadata": {},
   "outputs": [],
   "source": [
    "from sklearn.preprocessing import LabelEncoder\n",
    "le = LabelEncoder()"
   ]
  },
  {
   "cell_type": "code",
   "execution_count": 42,
   "metadata": {},
   "outputs": [
    {
     "data": {
      "text/html": [
       "<div>\n",
       "<style scoped>\n",
       "    .dataframe tbody tr th:only-of-type {\n",
       "        vertical-align: middle;\n",
       "    }\n",
       "\n",
       "    .dataframe tbody tr th {\n",
       "        vertical-align: top;\n",
       "    }\n",
       "\n",
       "    .dataframe thead th {\n",
       "        text-align: right;\n",
       "    }\n",
       "</style>\n",
       "<table border=\"1\" class=\"dataframe\">\n",
       "  <thead>\n",
       "    <tr style=\"text-align: right;\">\n",
       "      <th></th>\n",
       "      <th>age</th>\n",
       "      <th>sex</th>\n",
       "      <th>bmi</th>\n",
       "      <th>children</th>\n",
       "      <th>smoker</th>\n",
       "      <th>region</th>\n",
       "      <th>charges</th>\n",
       "    </tr>\n",
       "  </thead>\n",
       "  <tbody>\n",
       "    <tr>\n",
       "      <th>0</th>\n",
       "      <td>19</td>\n",
       "      <td>0</td>\n",
       "      <td>27.900</td>\n",
       "      <td>0</td>\n",
       "      <td>1</td>\n",
       "      <td>3</td>\n",
       "      <td>16884.92400</td>\n",
       "    </tr>\n",
       "    <tr>\n",
       "      <th>1</th>\n",
       "      <td>18</td>\n",
       "      <td>1</td>\n",
       "      <td>33.770</td>\n",
       "      <td>1</td>\n",
       "      <td>0</td>\n",
       "      <td>2</td>\n",
       "      <td>1725.55230</td>\n",
       "    </tr>\n",
       "    <tr>\n",
       "      <th>2</th>\n",
       "      <td>28</td>\n",
       "      <td>1</td>\n",
       "      <td>33.000</td>\n",
       "      <td>3</td>\n",
       "      <td>0</td>\n",
       "      <td>2</td>\n",
       "      <td>4449.46200</td>\n",
       "    </tr>\n",
       "    <tr>\n",
       "      <th>3</th>\n",
       "      <td>33</td>\n",
       "      <td>1</td>\n",
       "      <td>22.705</td>\n",
       "      <td>0</td>\n",
       "      <td>0</td>\n",
       "      <td>1</td>\n",
       "      <td>21984.47061</td>\n",
       "    </tr>\n",
       "    <tr>\n",
       "      <th>4</th>\n",
       "      <td>32</td>\n",
       "      <td>1</td>\n",
       "      <td>28.880</td>\n",
       "      <td>0</td>\n",
       "      <td>0</td>\n",
       "      <td>1</td>\n",
       "      <td>3866.85520</td>\n",
       "    </tr>\n",
       "  </tbody>\n",
       "</table>\n",
       "</div>"
      ],
      "text/plain": [
       "   age  sex     bmi  children  smoker  region      charges\n",
       "0   19    0  27.900         0       1       3  16884.92400\n",
       "1   18    1  33.770         1       0       2   1725.55230\n",
       "2   28    1  33.000         3       0       2   4449.46200\n",
       "3   33    1  22.705         0       0       1  21984.47061\n",
       "4   32    1  28.880         0       0       1   3866.85520"
      ]
     },
     "execution_count": 42,
     "metadata": {},
     "output_type": "execute_result"
    }
   ],
   "source": [
    "df.sex = le.fit_transform(df.sex)\n",
    "df.region = le.fit_transform(df.region)\n",
    "df.smoker = le.fit_transform(df.smoker)\n",
    "df.head()"
   ]
  },
  {
   "cell_type": "code",
   "execution_count": 43,
   "metadata": {},
   "outputs": [
    {
     "data": {
      "text/html": [
       "<div>\n",
       "<style scoped>\n",
       "    .dataframe tbody tr th:only-of-type {\n",
       "        vertical-align: middle;\n",
       "    }\n",
       "\n",
       "    .dataframe tbody tr th {\n",
       "        vertical-align: top;\n",
       "    }\n",
       "\n",
       "    .dataframe thead th {\n",
       "        text-align: right;\n",
       "    }\n",
       "</style>\n",
       "<table border=\"1\" class=\"dataframe\">\n",
       "  <thead>\n",
       "    <tr style=\"text-align: right;\">\n",
       "      <th></th>\n",
       "      <th>age</th>\n",
       "      <th>sex</th>\n",
       "      <th>bmi</th>\n",
       "      <th>children</th>\n",
       "      <th>smoker</th>\n",
       "      <th>region</th>\n",
       "      <th>charges</th>\n",
       "    </tr>\n",
       "  </thead>\n",
       "  <tbody>\n",
       "    <tr>\n",
       "      <th>count</th>\n",
       "      <td>1338.000000</td>\n",
       "      <td>1338.000000</td>\n",
       "      <td>1338.000000</td>\n",
       "      <td>1338.000000</td>\n",
       "      <td>1338.000000</td>\n",
       "      <td>1338.000000</td>\n",
       "      <td>1338.000000</td>\n",
       "    </tr>\n",
       "    <tr>\n",
       "      <th>mean</th>\n",
       "      <td>39.207025</td>\n",
       "      <td>0.505232</td>\n",
       "      <td>30.663397</td>\n",
       "      <td>1.094918</td>\n",
       "      <td>0.204783</td>\n",
       "      <td>1.515695</td>\n",
       "      <td>13270.422265</td>\n",
       "    </tr>\n",
       "    <tr>\n",
       "      <th>std</th>\n",
       "      <td>14.049960</td>\n",
       "      <td>0.500160</td>\n",
       "      <td>6.098187</td>\n",
       "      <td>1.205493</td>\n",
       "      <td>0.403694</td>\n",
       "      <td>1.104885</td>\n",
       "      <td>12110.011237</td>\n",
       "    </tr>\n",
       "    <tr>\n",
       "      <th>min</th>\n",
       "      <td>18.000000</td>\n",
       "      <td>0.000000</td>\n",
       "      <td>15.960000</td>\n",
       "      <td>0.000000</td>\n",
       "      <td>0.000000</td>\n",
       "      <td>0.000000</td>\n",
       "      <td>1121.873900</td>\n",
       "    </tr>\n",
       "    <tr>\n",
       "      <th>25%</th>\n",
       "      <td>27.000000</td>\n",
       "      <td>0.000000</td>\n",
       "      <td>26.296250</td>\n",
       "      <td>0.000000</td>\n",
       "      <td>0.000000</td>\n",
       "      <td>1.000000</td>\n",
       "      <td>4740.287150</td>\n",
       "    </tr>\n",
       "    <tr>\n",
       "      <th>50%</th>\n",
       "      <td>39.000000</td>\n",
       "      <td>1.000000</td>\n",
       "      <td>30.400000</td>\n",
       "      <td>1.000000</td>\n",
       "      <td>0.000000</td>\n",
       "      <td>2.000000</td>\n",
       "      <td>9382.033000</td>\n",
       "    </tr>\n",
       "    <tr>\n",
       "      <th>75%</th>\n",
       "      <td>51.000000</td>\n",
       "      <td>1.000000</td>\n",
       "      <td>34.693750</td>\n",
       "      <td>2.000000</td>\n",
       "      <td>0.000000</td>\n",
       "      <td>2.000000</td>\n",
       "      <td>16639.912515</td>\n",
       "    </tr>\n",
       "    <tr>\n",
       "      <th>max</th>\n",
       "      <td>64.000000</td>\n",
       "      <td>1.000000</td>\n",
       "      <td>53.130000</td>\n",
       "      <td>5.000000</td>\n",
       "      <td>1.000000</td>\n",
       "      <td>3.000000</td>\n",
       "      <td>63770.428010</td>\n",
       "    </tr>\n",
       "  </tbody>\n",
       "</table>\n",
       "</div>"
      ],
      "text/plain": [
       "               age          sex          bmi     children       smoker  \\\n",
       "count  1338.000000  1338.000000  1338.000000  1338.000000  1338.000000   \n",
       "mean     39.207025     0.505232    30.663397     1.094918     0.204783   \n",
       "std      14.049960     0.500160     6.098187     1.205493     0.403694   \n",
       "min      18.000000     0.000000    15.960000     0.000000     0.000000   \n",
       "25%      27.000000     0.000000    26.296250     0.000000     0.000000   \n",
       "50%      39.000000     1.000000    30.400000     1.000000     0.000000   \n",
       "75%      51.000000     1.000000    34.693750     2.000000     0.000000   \n",
       "max      64.000000     1.000000    53.130000     5.000000     1.000000   \n",
       "\n",
       "            region       charges  \n",
       "count  1338.000000   1338.000000  \n",
       "mean      1.515695  13270.422265  \n",
       "std       1.104885  12110.011237  \n",
       "min       0.000000   1121.873900  \n",
       "25%       1.000000   4740.287150  \n",
       "50%       2.000000   9382.033000  \n",
       "75%       2.000000  16639.912515  \n",
       "max       3.000000  63770.428010  "
      ]
     },
     "execution_count": 43,
     "metadata": {},
     "output_type": "execute_result"
    }
   ],
   "source": [
    "df.describe()"
   ]
  },
  {
   "cell_type": "code",
   "execution_count": 44,
   "metadata": {},
   "outputs": [
    {
     "data": {
      "text/html": [
       "<div>\n",
       "<style scoped>\n",
       "    .dataframe tbody tr th:only-of-type {\n",
       "        vertical-align: middle;\n",
       "    }\n",
       "\n",
       "    .dataframe tbody tr th {\n",
       "        vertical-align: top;\n",
       "    }\n",
       "\n",
       "    .dataframe thead th {\n",
       "        text-align: right;\n",
       "    }\n",
       "</style>\n",
       "<table border=\"1\" class=\"dataframe\">\n",
       "  <thead>\n",
       "    <tr style=\"text-align: right;\">\n",
       "      <th></th>\n",
       "      <th>count</th>\n",
       "      <th>mean</th>\n",
       "      <th>std</th>\n",
       "      <th>min</th>\n",
       "      <th>25%</th>\n",
       "      <th>50%</th>\n",
       "      <th>75%</th>\n",
       "      <th>max</th>\n",
       "    </tr>\n",
       "  </thead>\n",
       "  <tbody>\n",
       "    <tr>\n",
       "      <th>age</th>\n",
       "      <td>1338.0</td>\n",
       "      <td>39.207025</td>\n",
       "      <td>14.049960</td>\n",
       "      <td>18.0000</td>\n",
       "      <td>27.00000</td>\n",
       "      <td>39.000</td>\n",
       "      <td>51.000000</td>\n",
       "      <td>64.00000</td>\n",
       "    </tr>\n",
       "    <tr>\n",
       "      <th>sex</th>\n",
       "      <td>1338.0</td>\n",
       "      <td>0.505232</td>\n",
       "      <td>0.500160</td>\n",
       "      <td>0.0000</td>\n",
       "      <td>0.00000</td>\n",
       "      <td>1.000</td>\n",
       "      <td>1.000000</td>\n",
       "      <td>1.00000</td>\n",
       "    </tr>\n",
       "    <tr>\n",
       "      <th>bmi</th>\n",
       "      <td>1338.0</td>\n",
       "      <td>30.663397</td>\n",
       "      <td>6.098187</td>\n",
       "      <td>15.9600</td>\n",
       "      <td>26.29625</td>\n",
       "      <td>30.400</td>\n",
       "      <td>34.693750</td>\n",
       "      <td>53.13000</td>\n",
       "    </tr>\n",
       "    <tr>\n",
       "      <th>children</th>\n",
       "      <td>1338.0</td>\n",
       "      <td>1.094918</td>\n",
       "      <td>1.205493</td>\n",
       "      <td>0.0000</td>\n",
       "      <td>0.00000</td>\n",
       "      <td>1.000</td>\n",
       "      <td>2.000000</td>\n",
       "      <td>5.00000</td>\n",
       "    </tr>\n",
       "    <tr>\n",
       "      <th>smoker</th>\n",
       "      <td>1338.0</td>\n",
       "      <td>0.204783</td>\n",
       "      <td>0.403694</td>\n",
       "      <td>0.0000</td>\n",
       "      <td>0.00000</td>\n",
       "      <td>0.000</td>\n",
       "      <td>0.000000</td>\n",
       "      <td>1.00000</td>\n",
       "    </tr>\n",
       "    <tr>\n",
       "      <th>region</th>\n",
       "      <td>1338.0</td>\n",
       "      <td>1.515695</td>\n",
       "      <td>1.104885</td>\n",
       "      <td>0.0000</td>\n",
       "      <td>1.00000</td>\n",
       "      <td>2.000</td>\n",
       "      <td>2.000000</td>\n",
       "      <td>3.00000</td>\n",
       "    </tr>\n",
       "    <tr>\n",
       "      <th>charges</th>\n",
       "      <td>1338.0</td>\n",
       "      <td>13270.422265</td>\n",
       "      <td>12110.011237</td>\n",
       "      <td>1121.8739</td>\n",
       "      <td>4740.28715</td>\n",
       "      <td>9382.033</td>\n",
       "      <td>16639.912515</td>\n",
       "      <td>63770.42801</td>\n",
       "    </tr>\n",
       "  </tbody>\n",
       "</table>\n",
       "</div>"
      ],
      "text/plain": [
       "           count          mean           std        min         25%       50%  \\\n",
       "age       1338.0     39.207025     14.049960    18.0000    27.00000    39.000   \n",
       "sex       1338.0      0.505232      0.500160     0.0000     0.00000     1.000   \n",
       "bmi       1338.0     30.663397      6.098187    15.9600    26.29625    30.400   \n",
       "children  1338.0      1.094918      1.205493     0.0000     0.00000     1.000   \n",
       "smoker    1338.0      0.204783      0.403694     0.0000     0.00000     0.000   \n",
       "region    1338.0      1.515695      1.104885     0.0000     1.00000     2.000   \n",
       "charges   1338.0  13270.422265  12110.011237  1121.8739  4740.28715  9382.033   \n",
       "\n",
       "                   75%          max  \n",
       "age          51.000000     64.00000  \n",
       "sex           1.000000      1.00000  \n",
       "bmi          34.693750     53.13000  \n",
       "children      2.000000      5.00000  \n",
       "smoker        0.000000      1.00000  \n",
       "region        2.000000      3.00000  \n",
       "charges   16639.912515  63770.42801  "
      ]
     },
     "execution_count": 44,
     "metadata": {},
     "output_type": "execute_result"
    }
   ],
   "source": [
    "df.describe().T"
   ]
  },
  {
   "attachments": {},
   "cell_type": "markdown",
   "metadata": {},
   "source": [
    "Data Visualization\n"
   ]
  },
  {
   "cell_type": "code",
   "execution_count": 45,
   "metadata": {},
   "outputs": [
    {
     "data": {
      "text/plain": [
       "<seaborn.axisgrid.FacetGrid at 0x2134ae500a0>"
      ]
     },
     "execution_count": 45,
     "metadata": {},
     "output_type": "execute_result"
    },
    {
     "data": {
      "text/plain": [
       "<Figure size 600x600 with 0 Axes>"
      ]
     },
     "metadata": {},
     "output_type": "display_data"
    },
    {
     "data": {
      "image/png": "[encoded data removed]",
      "text/plain": [
       "<Figure size 500x500 with 1 Axes>"
      ]
     },
     "metadata": {},
     "output_type": "display_data"
    }
   ],
   "source": [
    "plt.figure(figsize=(6,6))\n",
    "sns.displot(df['charges'])"
   ]
  },
  {
   "cell_type": "code",
   "execution_count": 46,
   "metadata": {},
   "outputs": [
    {
     "data": {
      "text/plain": [
       "<Axes: >"
      ]
     },
     "execution_count": 46,
     "metadata": {},
     "output_type": "execute_result"
    },
    {
     "data": {
      "image/png": "[encoded data removed]",
      "text/plain": [
       "<Figure size 2000x2000 with 2 Axes>"
      ]
     },
     "metadata": {},
     "output_type": "display_data"
    }
   ],
   "source": [
    "plt.figure(figsize=(20,20))\n",
    "sns.heatmap(df.corr(),annot=True)"
   ]
  },
  {
   "cell_type": "code",
   "execution_count": 47,
   "metadata": {},
   "outputs": [],
   "source": [
    "x = df.drop('charges',axis=1)\n",
    "y = df['charges']"
   ]
  },
  {
   "cell_type": "code",
   "execution_count": 48,
   "metadata": {},
   "outputs": [],
   "source": [
    "from sklearn.model_selection import train_test_split as tts"
   ]
  },
  {
   "cell_type": "code",
   "execution_count": 49,
   "metadata": {},
   "outputs": [],
   "source": [
    "xtrain,xtest,ytrain,ytest = tts(x,y,test_size=0.3,random_state=75)"
   ]
  },
  {
   "cell_type": "code",
   "execution_count": 50,
   "metadata": {},
   "outputs": [
    {
     "data": {
      "text/html": [
       "<div>\n",
       "<style scoped>\n",
       "    .dataframe tbody tr th:only-of-type {\n",
       "        vertical-align: middle;\n",
       "    }\n",
       "\n",
       "    .dataframe tbody tr th {\n",
       "        vertical-align: top;\n",
       "    }\n",
       "\n",
       "    .dataframe thead th {\n",
       "        text-align: right;\n",
       "    }\n",
       "</style>\n",
       "<table border=\"1\" class=\"dataframe\">\n",
       "  <thead>\n",
       "    <tr style=\"text-align: right;\">\n",
       "      <th></th>\n",
       "      <th>age</th>\n",
       "      <th>sex</th>\n",
       "      <th>bmi</th>\n",
       "      <th>children</th>\n",
       "      <th>smoker</th>\n",
       "      <th>region</th>\n",
       "    </tr>\n",
       "  </thead>\n",
       "  <tbody>\n",
       "    <tr>\n",
       "      <th>622</th>\n",
       "      <td>49</td>\n",
       "      <td>0</td>\n",
       "      <td>21.300</td>\n",
       "      <td>1</td>\n",
       "      <td>0</td>\n",
       "      <td>3</td>\n",
       "    </tr>\n",
       "    <tr>\n",
       "      <th>353</th>\n",
       "      <td>33</td>\n",
       "      <td>1</td>\n",
       "      <td>35.245</td>\n",
       "      <td>0</td>\n",
       "      <td>0</td>\n",
       "      <td>0</td>\n",
       "    </tr>\n",
       "    <tr>\n",
       "      <th>644</th>\n",
       "      <td>43</td>\n",
       "      <td>1</td>\n",
       "      <td>35.310</td>\n",
       "      <td>2</td>\n",
       "      <td>0</td>\n",
       "      <td>2</td>\n",
       "    </tr>\n",
       "    <tr>\n",
       "      <th>249</th>\n",
       "      <td>29</td>\n",
       "      <td>1</td>\n",
       "      <td>28.975</td>\n",
       "      <td>1</td>\n",
       "      <td>0</td>\n",
       "      <td>0</td>\n",
       "    </tr>\n",
       "    <tr>\n",
       "      <th>201</th>\n",
       "      <td>48</td>\n",
       "      <td>0</td>\n",
       "      <td>32.230</td>\n",
       "      <td>1</td>\n",
       "      <td>0</td>\n",
       "      <td>2</td>\n",
       "    </tr>\n",
       "  </tbody>\n",
       "</table>\n",
       "</div>"
      ],
      "text/plain": [
       "     age  sex     bmi  children  smoker  region\n",
       "622   49    0  21.300         1       0       3\n",
       "353   33    1  35.245         0       0       0\n",
       "644   43    1  35.310         2       0       2\n",
       "249   29    1  28.975         1       0       0\n",
       "201   48    0  32.230         1       0       2"
      ]
     },
     "execution_count": 50,
     "metadata": {},
     "output_type": "execute_result"
    }
   ],
   "source": [
    "xtrain.head()"
   ]
  },
  {
   "cell_type": "code",
   "execution_count": 51,
   "metadata": {},
   "outputs": [
    {
     "data": {
      "text/plain": [
       "622     9182.17000\n",
       "353    12404.87910\n",
       "644    18806.14547\n",
       "249     4040.55825\n",
       "201     8871.15170\n",
       "Name: charges, dtype: float64"
      ]
     },
     "execution_count": 51,
     "metadata": {},
     "output_type": "execute_result"
    }
   ],
   "source": [
    "ytrain.head()"
   ]
  },
  {
   "cell_type": "code",
   "execution_count": 52,
   "metadata": {},
   "outputs": [
    {
     "data": {
      "text/html": [
       "<div>\n",
       "<style scoped>\n",
       "    .dataframe tbody tr th:only-of-type {\n",
       "        vertical-align: middle;\n",
       "    }\n",
       "\n",
       "    .dataframe tbody tr th {\n",
       "        vertical-align: top;\n",
       "    }\n",
       "\n",
       "    .dataframe thead th {\n",
       "        text-align: right;\n",
       "    }\n",
       "</style>\n",
       "<table border=\"1\" class=\"dataframe\">\n",
       "  <thead>\n",
       "    <tr style=\"text-align: right;\">\n",
       "      <th></th>\n",
       "      <th>age</th>\n",
       "      <th>sex</th>\n",
       "      <th>bmi</th>\n",
       "      <th>children</th>\n",
       "      <th>smoker</th>\n",
       "      <th>region</th>\n",
       "    </tr>\n",
       "  </thead>\n",
       "  <tbody>\n",
       "    <tr>\n",
       "      <th>1307</th>\n",
       "      <td>32</td>\n",
       "      <td>1</td>\n",
       "      <td>28.120</td>\n",
       "      <td>4</td>\n",
       "      <td>1</td>\n",
       "      <td>1</td>\n",
       "    </tr>\n",
       "    <tr>\n",
       "      <th>654</th>\n",
       "      <td>59</td>\n",
       "      <td>0</td>\n",
       "      <td>35.200</td>\n",
       "      <td>0</td>\n",
       "      <td>0</td>\n",
       "      <td>2</td>\n",
       "    </tr>\n",
       "    <tr>\n",
       "      <th>1169</th>\n",
       "      <td>37</td>\n",
       "      <td>0</td>\n",
       "      <td>34.105</td>\n",
       "      <td>1</td>\n",
       "      <td>0</td>\n",
       "      <td>1</td>\n",
       "    </tr>\n",
       "    <tr>\n",
       "      <th>570</th>\n",
       "      <td>31</td>\n",
       "      <td>0</td>\n",
       "      <td>29.100</td>\n",
       "      <td>0</td>\n",
       "      <td>0</td>\n",
       "      <td>3</td>\n",
       "    </tr>\n",
       "    <tr>\n",
       "      <th>633</th>\n",
       "      <td>40</td>\n",
       "      <td>1</td>\n",
       "      <td>22.705</td>\n",
       "      <td>2</td>\n",
       "      <td>0</td>\n",
       "      <td>0</td>\n",
       "    </tr>\n",
       "  </tbody>\n",
       "</table>\n",
       "</div>"
      ],
      "text/plain": [
       "      age  sex     bmi  children  smoker  region\n",
       "1307   32    1  28.120         4       1       1\n",
       "654    59    0  35.200         0       0       2\n",
       "1169   37    0  34.105         1       0       1\n",
       "570    31    0  29.100         0       0       3\n",
       "633    40    1  22.705         2       0       0"
      ]
     },
     "execution_count": 52,
     "metadata": {},
     "output_type": "execute_result"
    }
   ],
   "source": [
    "xtest.head()"
   ]
  },
  {
   "attachments": {},
   "cell_type": "markdown",
   "metadata": {},
   "source": [
    "Linear Regression"
   ]
  },
  {
   "cell_type": "code",
   "execution_count": 53,
   "metadata": {},
   "outputs": [
    {
     "data": {
      "text/html": [
       "<style>#sk-container-id-3 {color: black;background-color: white;}#sk-container-id-3 pre{padding: 0;}#sk-container-id-3 div.sk-toggleable {background-color: white;}#sk-container-id-3 label.sk-toggleable__label {cursor: pointer;display: block;width: 100%;margin-bottom: 0;padding: 0.3em;box-sizing: border-box;text-align: center;}#sk-container-id-3 label.sk-toggleable__label-arrow:before {content: \"▸\";float: left;margin-right: 0.25em;color: #696969;}#sk-container-id-3 label.sk-toggleable__label-arrow:hover:before {color: black;}#sk-container-id-3 div.sk-estimator:hover label.sk-toggleable__label-arrow:before {color: black;}#sk-container-id-3 div.sk-toggleable__content {max-height: 0;max-width: 0;overflow: hidden;text-align: left;background-color: #f0f8ff;}#sk-container-id-3 div.sk-toggleable__content pre {margin: 0.2em;color: black;border-radius: 0.25em;background-color: #f0f8ff;}#sk-container-id-3 input.sk-toggleable__control:checked~div.sk-toggleable__content {max-height: 200px;max-width: 100%;overflow: auto;}#sk-container-id-3 input.sk-toggleable__control:checked~label.sk-toggleable__label-arrow:before {content: \"▾\";}#sk-container-id-3 div.sk-estimator input.sk-toggleable__control:checked~label.sk-toggleable__label {background-color: #d4ebff;}#sk-container-id-3 div.sk-label input.sk-toggleable__control:checked~label.sk-toggleable__label {background-color: #d4ebff;}#sk-container-id-3 input.sk-hidden--visually {border: 0;clip: rect(1px 1px 1px 1px);clip: rect(1px, 1px, 1px, 1px);height: 1px;margin: -1px;overflow: hidden;padding: 0;position: absolute;width: 1px;}#sk-container-id-3 div.sk-estimator {font-family: monospace;background-color: #f0f8ff;border: 1px dotted black;border-radius: 0.25em;box-sizing: border-box;margin-bottom: 0.5em;}#sk-container-id-3 div.sk-estimator:hover {background-color: #d4ebff;}#sk-container-id-3 div.sk-parallel-item::after {content: \"\";width: 100%;border-bottom: 1px solid gray;flex-grow: 1;}#sk-container-id-3 div.sk-label:hover label.sk-toggleable__label {background-color: #d4ebff;}#sk-container-id-3 div.sk-serial::before {content: \"\";position: absolute;border-left: 1px solid gray;box-sizing: border-box;top: 0;bottom: 0;left: 50%;z-index: 0;}#sk-container-id-3 div.sk-serial {display: flex;flex-direction: column;align-items: center;background-color: white;padding-right: 0.2em;padding-left: 0.2em;position: relative;}#sk-container-id-3 div.sk-item {position: relative;z-index: 1;}#sk-container-id-3 div.sk-parallel {display: flex;align-items: stretch;justify-content: center;background-color: white;position: relative;}#sk-container-id-3 div.sk-item::before, #sk-container-id-3 div.sk-parallel-item::before {content: \"\";position: absolute;border-left: 1px solid gray;box-sizing: border-box;top: 0;bottom: 0;left: 50%;z-index: -1;}#sk-container-id-3 div.sk-parallel-item {display: flex;flex-direction: column;z-index: 1;position: relative;background-color: white;}#sk-container-id-3 div.sk-parallel-item:first-child::after {align-self: flex-end;width: 50%;}#sk-container-id-3 div.sk-parallel-item:last-child::after {align-self: flex-start;width: 50%;}#sk-container-id-3 div.sk-parallel-item:only-child::after {width: 0;}#sk-container-id-3 div.sk-dashed-wrapped {border: 1px dashed gray;margin: 0 0.4em 0.5em 0.4em;box-sizing: border-box;padding-bottom: 0.4em;background-color: white;}#sk-container-id-3 div.sk-label label {font-family: monospace;font-weight: bold;display: inline-block;line-height: 1.2em;}#sk-container-id-3 div.sk-label-container {text-align: center;}#sk-container-id-3 div.sk-container {/* jupyter's `normalize.less` sets `[hidden] { display: none; }` but bootstrap.min.css set `[hidden] { display: none !important; }` so we also need the `!important` here to be able to override the default hidden behavior on the sphinx rendered scikit-learn.org. See: https://github.com/scikit-learn/scikit-learn/issues/21755 */display: inline-block !important;position: relative;}#sk-container-id-3 div.sk-text-repr-fallback {display: none;}</style><div id=\"sk-container-id-3\" class=\"sk-top-container\"><div class=\"sk-text-repr-fallback\"><pre>LinearRegression()</pre><b>In a Jupyter environment, please rerun this cell to show the HTML representation or trust the notebook. <br />On GitHub, the HTML representation is unable to render, please try loading this page with nbviewer.org.</b></div><div class=\"sk-container\" hidden><div class=\"sk-item\"><div class=\"sk-estimator sk-toggleable\"><input class=\"sk-toggleable__control sk-hidden--visually\" id=\"sk-estimator-id-3\" type=\"checkbox\" checked><label for=\"sk-estimator-id-3\" class=\"sk-toggleable__label sk-toggleable__label-arrow\">LinearRegression</label><div class=\"sk-toggleable__content\"><pre>LinearRegression()</pre></div></div></div></div></div>"
      ],
      "text/plain": [
       "LinearRegression()"
      ]
     },
     "execution_count": 53,
     "metadata": {},
     "output_type": "execute_result"
    }
   ],
   "source": [
    "from sklearn.linear_model import LinearRegression\n",
    "reg = LinearRegression()\n",
    "reg.fit(xtrain,ytrain)"
   ]
  },
  {
   "cell_type": "code",
   "execution_count": 54,
   "metadata": {},
   "outputs": [
    {
     "data": {
      "text/plain": [
       "array([31444.06893581, 14125.69501709,  9240.5726831 ,  4559.04252052,\n",
       "        7183.72418412, 38744.86304769, 13446.77689492,  9856.65470611,\n",
       "       15777.65382695, 11655.99769109, 26880.9741966 ,  1911.16287523,\n",
       "        6974.23727621,  7044.49363856,  4042.5546189 , 15516.73107203,\n",
       "        5601.91557466,  9159.42937416, 10633.66817197, 35177.24577315,\n",
       "       10652.67177954, 29619.92122683,  6571.92857134, 16169.95169686,\n",
       "       11668.17053811, 12553.04555765,  2211.88420256,  8913.68420521,\n",
       "       24566.43601531, 14280.81985329,  9411.68724442, 11932.64513819,\n",
       "        2996.73260665,  1124.26602325,  7143.76131851,  6321.14407209,\n",
       "       25435.94791017,  5993.59595954,  3167.45584352,  2174.23947868,\n",
       "       10306.9043735 , 15774.58005196, 11572.5560884 , 10983.33328085,\n",
       "       12165.53932123,  4140.3261382 , 11149.98087558, 11679.22607504,\n",
       "        9756.69901721, 37937.75740311,  6029.68650089, 28196.93280529,\n",
       "        6341.91875818, 14064.9584735 , 11666.53289888,  5992.11598085,\n",
       "       13192.90924675,   433.51388817, 13523.94327348,  8226.87201869,\n",
       "        3265.48801739,  5693.55967355,  6879.13061374, 10914.14008482,\n",
       "       36195.62947748, 29980.39310288, 24869.00651637,  5145.63973446,\n",
       "       15173.53088716,  8564.42727304,  5960.76325215,   770.65602333,\n",
       "       35826.27096266, 11156.21937232, 11016.38113468, 10534.35263351,\n",
       "        2501.66183571,  9346.16666673, 29443.22571922,  9874.57370314,\n",
       "        7001.32307891, 16098.2759698 ,  2625.37220003, 10939.17831029,\n",
       "       30789.33537929, 14509.29597625,   904.16970369,  4004.42344264,\n",
       "       17990.52373797, 11205.33024459, 11725.35097927, 11657.01965968,\n",
       "       11340.6505173 ,  2406.43538006, 30031.35427297,   372.00150056,\n",
       "        8329.76644608, 30545.71278597,  9219.42380639,  2329.75397414,\n",
       "        5620.93175224,  4058.70631493, 16019.76784197, 31789.14974465,\n",
       "       30882.27907782, 33970.2163952 ,  3928.17032975, 12583.05072397,\n",
       "        7375.79518097, 38682.38428687,  9433.82700225, 31876.97375615,\n",
       "       15223.24385195,  9454.90760933, 10659.89627116,  1653.89766092,\n",
       "       14976.19926068,  8835.33114584, 10925.23779949, 38716.59597878,\n",
       "       10659.86764343,  -975.05689102,  7445.05238935,  4488.66040264,\n",
       "       10207.57697835, 32806.3553757 ,  4048.58491153, 12458.16231449,\n",
       "        9949.16639032, 26101.07736896, 10849.06063685,  8322.2171782 ,\n",
       "       11745.54520201,   697.1503252 ,  8676.85611716,  2289.54886208,\n",
       "       12702.25038811, 31704.31430503, 32377.67363843, 13952.19248856,\n",
       "        1998.02471456, 27261.56109597, 33796.03576765, 13399.30033149,\n",
       "        8364.37014763,  9232.35059335, 15395.82645404, 11504.49894525,\n",
       "       31008.65932268,  5878.05646795, 35721.42405785, 12869.93180812,\n",
       "       37040.55515329,   944.92937218, 10553.52821805, 36724.74231375,\n",
       "        8307.13823601,  6256.98370803,  8656.26782869,   693.43907308,\n",
       "        3255.45278385,  2109.16494507,  2623.31110091, 14394.6923115 ,\n",
       "       32302.76289201,  1366.16652891, 11193.89351847,  1399.68160434,\n",
       "        9085.45568801, 34408.85818216,  5683.13308745, 11891.02446393,\n",
       "        6819.79053902, 12134.94380975,  1987.00876328, 13099.83144372,\n",
       "        4233.34727485,  7874.59936155,  3842.96041794, 11248.41333195,\n",
       "       11600.47680499, 10300.70871157, 17111.87047224,  5494.04145097,\n",
       "       37260.63196051,   986.49622559,  6055.99129178, 11539.03443341,\n",
       "       13320.5940056 , 13344.59151656,  9420.09401036,  1957.22701627,\n",
       "       33886.34910331, 32516.59697333,  9014.46281384,  7875.44605091,\n",
       "        7187.88148031, 28523.22497568,  7671.39428543, 28624.04850334,\n",
       "       24872.98000703, 10058.29970535,  8584.46982569,  1560.21942545,\n",
       "       35246.17495611, 10285.66935503,  3745.52708743, 30135.55755285,\n",
       "       15407.50774888,  5283.84010755, 33254.96909717,  1720.12728763,\n",
       "        9310.48099983,  6768.088047  , 14689.26414211,  5943.22697204,\n",
       "       14192.28245427,  9017.94576042, 10668.3553021 , 14300.39185396,\n",
       "        2630.26406128, 27102.42069561, 15492.32034577, 11451.85642536,\n",
       "       35105.90990008, 10206.30534124, 31828.54597848,  7684.03599113,\n",
       "       13264.49724809, 12057.88861685, 11450.42105602, 24279.75059338,\n",
       "       14310.91118948, 35583.56758245,  7431.33196746,  4086.84184331,\n",
       "       32402.09791469, 13085.95750923, 14894.08260809,  2117.67208796,\n",
       "        2168.42161932,  5484.09558024,  6594.11821565,  4913.71341759,\n",
       "        7616.03103176,  5981.17767314, 12358.06412714, 17344.49731183,\n",
       "        8757.11908531, 10220.52827322,  5142.39610759, 12666.07728884,\n",
       "        2837.24978834, 15616.00374755,  6532.8158348 , 36722.5035089 ,\n",
       "        4633.39668254, 11459.23013244, 15721.00300765,  9872.60210428,\n",
       "       11692.17736992, 15677.42327641,  3195.35371739,  4862.664694  ,\n",
       "       10358.71802306,  9431.57718324, 27186.2879875 , 13332.31575674,\n",
       "       10073.69413106, 39991.7355262 , 34120.1524322 ,  3425.80733356,\n",
       "       36832.92602662, 30726.46193553,  4919.2649135 ,  8399.00417023,\n",
       "       11398.15204154,  1520.05762033, 28934.45657459, 29392.89801068,\n",
       "       12518.28577953,  9517.26177195, 11079.23682741, 27355.6870407 ,\n",
       "       14832.95990784, 16485.60336814,  5795.43459208,  3856.94307836,\n",
       "        5864.14527009,  7497.37623279, 14569.16905944, 27019.41599348,\n",
       "        4647.3421077 ,  6172.7933332 ,  3986.41983159,  6473.79971368,\n",
       "       11081.17304166,  2538.70602293, 10656.89164156, 32068.79535114,\n",
       "        5924.34727747,  5647.2619217 ,  3324.50247331,  8433.58943554,\n",
       "       12382.35445623,   713.34488417, 11782.3930418 ,  7770.76126623,\n",
       "        8872.56943942,  4232.92565748, 10512.70186391,  1430.81001497,\n",
       "       10557.03123793,  5324.47684303, 18083.60143676,  9858.86158097,\n",
       "       13664.77094573, 15034.75412254,  6765.06407729,  8299.84708686,\n",
       "        2593.78577931,  6294.53893165,  4253.62766746, 28294.39722327,\n",
       "       37026.95283128, 34634.56246366, 12987.92129166, 12774.06621014,\n",
       "       10701.84172168, 11208.91943435,  8629.11895227,  2910.13308707,\n",
       "        5989.11222191, 12811.8314124 , 33532.38414355,  5159.11873256,\n",
       "        9727.36413693,  7595.90838091,  3922.26965902, 10204.11187892,\n",
       "       29911.47899766,  8775.02065422,  3366.81730432, 39933.05401005,\n",
       "       29273.52552703,  5976.89126293, 12121.80950388,  7700.29297848,\n",
       "       10868.22269951,   682.23068062, 13194.35196205,  3100.5783295 ,\n",
       "        6528.81939208,  7865.60492374, 34414.53950541,  6417.23232296,\n",
       "        5337.93914619, 37056.86686026,  9465.12501133, 29972.51089523,\n",
       "       29112.75665908,  9334.6177351 , 31942.86614594,  6938.08094798,\n",
       "       34548.22264677, 12159.85215987,  7788.19130316, 26467.54591433,\n",
       "        4703.33196181, 13458.44387333,  8267.32054215,  7213.50593113,\n",
       "        6415.92765162,  9816.99044363, 10993.00158851, 10223.74485634,\n",
       "       35493.59737806, 33855.54448894,  7664.52052449, 26466.87478577,\n",
       "        1714.09269785, 38499.38695537, 26944.68088906, -1127.79339723,\n",
       "       28007.79294752, 36674.36146956,  5175.35121199, 12760.37283201,\n",
       "        5117.35708758, 31587.63697115,  2732.22757619, 29838.03242564,\n",
       "        7715.70847239, 30627.9087192 , 12740.31585871, 38956.75328723,\n",
       "        2644.89529421,  6364.94555744,  5046.91164255, 16545.50174869,\n",
       "       17060.65310207,  4218.3442017 ])"
      ]
     },
     "execution_count": 54,
     "metadata": {},
     "output_type": "execute_result"
    }
   ],
   "source": [
    "pred = reg.predict(xtest)\n",
    "pred"
   ]
  },
  {
   "cell_type": "code",
   "execution_count": 55,
   "metadata": {},
   "outputs": [
    {
     "data": {
      "text/plain": [
       "array([  255.32831486,  -242.25126446,   321.46363629,   627.57177544,\n",
       "       23763.63362835,  -456.53149918])"
      ]
     },
     "execution_count": 55,
     "metadata": {},
     "output_type": "execute_result"
    }
   ],
   "source": [
    "m = reg.coef_\n",
    "m"
   ]
  },
  {
   "cell_type": "code",
   "execution_count": 56,
   "metadata": {},
   "outputs": [
    {
     "data": {
      "text/plain": [
       "-11341.132558579611"
      ]
     },
     "execution_count": 56,
     "metadata": {},
     "output_type": "execute_result"
    }
   ],
   "source": [
    "c = reg.intercept_\n",
    "c"
   ]
  },
  {
   "cell_type": "code",
   "execution_count": 57,
   "metadata": {},
   "outputs": [
    {
     "data": {
      "text/plain": [
       "0.7666007875414489"
      ]
     },
     "execution_count": 57,
     "metadata": {},
     "output_type": "execute_result"
    }
   ],
   "source": [
    "reg.score(xtest,ytest)"
   ]
  },
  {
   "cell_type": "code",
   "execution_count": 58,
   "metadata": {},
   "outputs": [
    {
     "data": {
      "text/plain": [
       "0.7666007875414489"
      ]
     },
     "execution_count": 58,
     "metadata": {},
     "output_type": "execute_result"
    }
   ],
   "source": [
    "accuracy = r2_score(ytest,pred)\n",
    "accuracy"
   ]
  },
  {
   "cell_type": "code",
   "execution_count": 59,
   "metadata": {},
   "outputs": [
    {
     "data": {
      "text/plain": [
       "34746319.11938304"
      ]
     },
     "execution_count": 59,
     "metadata": {},
     "output_type": "execute_result"
    }
   ],
   "source": [
    "mse1 = mean_squared_error(ytest,pred)\n",
    "mse1"
   ]
  },
  {
   "cell_type": "code",
   "execution_count": 60,
   "metadata": {},
   "outputs": [
    {
     "data": {
      "text/plain": [
       "4077.181341788025"
      ]
     },
     "execution_count": 60,
     "metadata": {},
     "output_type": "execute_result"
    }
   ],
   "source": [
    "mae1 = mean_absolute_error(ytest,pred)\n",
    "mae1"
   ]
  },
  {
   "attachments": {},
   "cell_type": "markdown",
   "metadata": {},
   "source": [
    "KNN Regression"
   ]
  },
  {
   "cell_type": "code",
   "execution_count": 62,
   "metadata": {},
   "outputs": [
    {
     "data": {
      "text/html": [
       "<style>#sk-container-id-5 {color: black;background-color: white;}#sk-container-id-5 pre{padding: 0;}#sk-container-id-5 div.sk-toggleable {background-color: white;}#sk-container-id-5 label.sk-toggleable__label {cursor: pointer;display: block;width: 100%;margin-bottom: 0;padding: 0.3em;box-sizing: border-box;text-align: center;}#sk-container-id-5 label.sk-toggleable__label-arrow:before {content: \"▸\";float: left;margin-right: 0.25em;color: #696969;}#sk-container-id-5 label.sk-toggleable__label-arrow:hover:before {color: black;}#sk-container-id-5 div.sk-estimator:hover label.sk-toggleable__label-arrow:before {color: black;}#sk-container-id-5 div.sk-toggleable__content {max-height: 0;max-width: 0;overflow: hidden;text-align: left;background-color: #f0f8ff;}#sk-container-id-5 div.sk-toggleable__content pre {margin: 0.2em;color: black;border-radius: 0.25em;background-color: #f0f8ff;}#sk-container-id-5 input.sk-toggleable__control:checked~div.sk-toggleable__content {max-height: 200px;max-width: 100%;overflow: auto;}#sk-container-id-5 input.sk-toggleable__control:checked~label.sk-toggleable__label-arrow:before {content: \"▾\";}#sk-container-id-5 div.sk-estimator input.sk-toggleable__control:checked~label.sk-toggleable__label {background-color: #d4ebff;}#sk-container-id-5 div.sk-label input.sk-toggleable__control:checked~label.sk-toggleable__label {background-color: #d4ebff;}#sk-container-id-5 input.sk-hidden--visually {border: 0;clip: rect(1px 1px 1px 1px);clip: rect(1px, 1px, 1px, 1px);height: 1px;margin: -1px;overflow: hidden;padding: 0;position: absolute;width: 1px;}#sk-container-id-5 div.sk-estimator {font-family: monospace;background-color: #f0f8ff;border: 1px dotted black;border-radius: 0.25em;box-sizing: border-box;margin-bottom: 0.5em;}#sk-container-id-5 div.sk-estimator:hover {background-color: #d4ebff;}#sk-container-id-5 div.sk-parallel-item::after {content: \"\";width: 100%;border-bottom: 1px solid gray;flex-grow: 1;}#sk-container-id-5 div.sk-label:hover label.sk-toggleable__label {background-color: #d4ebff;}#sk-container-id-5 div.sk-serial::before {content: \"\";position: absolute;border-left: 1px solid gray;box-sizing: border-box;top: 0;bottom: 0;left: 50%;z-index: 0;}#sk-container-id-5 div.sk-serial {display: flex;flex-direction: column;align-items: center;background-color: white;padding-right: 0.2em;padding-left: 0.2em;position: relative;}#sk-container-id-5 div.sk-item {position: relative;z-index: 1;}#sk-container-id-5 div.sk-parallel {display: flex;align-items: stretch;justify-content: center;background-color: white;position: relative;}#sk-container-id-5 div.sk-item::before, #sk-container-id-5 div.sk-parallel-item::before {content: \"\";position: absolute;border-left: 1px solid gray;box-sizing: border-box;top: 0;bottom: 0;left: 50%;z-index: -1;}#sk-container-id-5 div.sk-parallel-item {display: flex;flex-direction: column;z-index: 1;position: relative;background-color: white;}#sk-container-id-5 div.sk-parallel-item:first-child::after {align-self: flex-end;width: 50%;}#sk-container-id-5 div.sk-parallel-item:last-child::after {align-self: flex-start;width: 50%;}#sk-container-id-5 div.sk-parallel-item:only-child::after {width: 0;}#sk-container-id-5 div.sk-dashed-wrapped {border: 1px dashed gray;margin: 0 0.4em 0.5em 0.4em;box-sizing: border-box;padding-bottom: 0.4em;background-color: white;}#sk-container-id-5 div.sk-label label {font-family: monospace;font-weight: bold;display: inline-block;line-height: 1.2em;}#sk-container-id-5 div.sk-label-container {text-align: center;}#sk-container-id-5 div.sk-container {/* jupyter's `normalize.less` sets `[hidden] { display: none; }` but bootstrap.min.css set `[hidden] { display: none !important; }` so we also need the `!important` here to be able to override the default hidden behavior on the sphinx rendered scikit-learn.org. See: https://github.com/scikit-learn/scikit-learn/issues/21755 */display: inline-block !important;position: relative;}#sk-container-id-5 div.sk-text-repr-fallback {display: none;}</style><div id=\"sk-container-id-5\" class=\"sk-top-container\"><div class=\"sk-text-repr-fallback\"><pre>KNeighborsRegressor()</pre><b>In a Jupyter environment, please rerun this cell to show the HTML representation or trust the notebook. <br />On GitHub, the HTML representation is unable to render, please try loading this page with nbviewer.org.</b></div><div class=\"sk-container\" hidden><div class=\"sk-item\"><div class=\"sk-estimator sk-toggleable\"><input class=\"sk-toggleable__control sk-hidden--visually\" id=\"sk-estimator-id-5\" type=\"checkbox\" checked><label for=\"sk-estimator-id-5\" class=\"sk-toggleable__label sk-toggleable__label-arrow\">KNeighborsRegressor</label><div class=\"sk-toggleable__content\"><pre>KNeighborsRegressor()</pre></div></div></div></div></div>"
      ],
      "text/plain": [
       "KNeighborsRegressor()"
      ]
     },
     "execution_count": 62,
     "metadata": {},
     "output_type": "execute_result"
    }
   ],
   "source": [
    "from sklearn.neighbors import KNeighborsRegressor\n",
    "ne = KNeighborsRegressor()\n",
    "ne.fit(xtrain,ytrain)"
   ]
  },
  {
   "cell_type": "code",
   "execution_count": 63,
   "metadata": {},
   "outputs": [
    {
     "data": {
      "text/plain": [
       "array([ 8664.09844 , 15255.108632, 18696.1259  , 10149.99584 ,\n",
       "        8534.747238, 30252.510626, 11672.87961 , 12202.93632 ,\n",
       "       30789.473982, 11161.91254 ,  7940.6352  , 11011.9515  ,\n",
       "        6332.76192 ,  5033.66309 ,  1304.81414 , 13812.379518,\n",
       "        4164.02026 , 23301.250576,  4697.72498 , 15862.29854 ,\n",
       "       16619.632168, 16778.26969 , 33077.005538, 13327.74536 ,\n",
       "        7177.89792 ,  9360.27332 ,  8865.255098, 11729.95667 ,\n",
       "       10914.64652 , 11920.7072  , 17369.425912,  9835.601   ,\n",
       "        5904.4587  ,  7748.8528  ,  7441.47195 , 13739.255704,\n",
       "        2851.83831 ,  5077.1376  ,  3323.50765 ,  9928.051718,\n",
       "       12219.30099 , 27401.48308 ,  5773.89555 ,  9933.03874 ,\n",
       "       13960.05581 ,  9367.25582 , 18274.057666, 14488.1022  ,\n",
       "       16516.71699 , 27786.459294,  7050.05487 ,  7356.93182 ,\n",
       "       11125.84747 , 11823.19868 , 11490.82638 ,  4309.61116 ,\n",
       "       10222.3906  ,  4097.79823 , 21480.615578,  9732.5132  ,\n",
       "        8373.83023 ,  7804.381406,  8815.01347 , 13851.64677 ,\n",
       "       23932.797184,  8172.98118 ,  1790.31786 ,  4502.524   ,\n",
       "       29876.338146,  6563.48175 , 14359.135444,  7820.74634 ,\n",
       "        9920.0166  , 18692.502812, 11364.43512 , 16519.745974,\n",
       "        5114.48007 , 13661.423162,  8237.47244 , 13952.037122,\n",
       "        4894.54587 , 32030.11815 ,  5097.35056 ,  6968.68244 ,\n",
       "       10742.45493 , 12196.29192 ,  4841.92605 ,  6937.20175 ,\n",
       "       24296.083572, 15525.175674, 12704.20667 , 12616.2158  ,\n",
       "       25579.238868,  1918.05931 , 13203.65478 ,  7620.094718,\n",
       "       16750.03438 , 16888.58018 , 13426.248122,  7011.174788,\n",
       "        7298.14438 ,  9733.6646  , 20118.74625 , 13135.92489 ,\n",
       "       26815.660648, 13468.45333 ,  5921.267234, 16441.57509 ,\n",
       "        6137.39129 , 22502.302996, 23301.250576, 21425.584524,\n",
       "       18842.46979 ,  7812.20349 , 21578.741724,  4841.92605 ,\n",
       "       13272.75007 , 13850.892112, 18695.628558, 23306.95283 ,\n",
       "       13336.331274,  3937.33855 , 10795.9488  ,  6231.70582 ,\n",
       "       13695.721372, 25278.370848,  2303.62959 , 16790.747934,\n",
       "       13202.70293 ,  8223.08797 , 10907.38148 ,  6045.76894 ,\n",
       "       12129.7176  ,  9475.228198, 11924.88587 ,  4306.89663 ,\n",
       "        8332.9596  , 13474.070626, 18063.25883 , 12102.02915 ,\n",
       "        8482.56354 , 15060.33443 ,  9933.03874 , 10263.64874 ,\n",
       "       12179.78192 , 15068.9806  , 22624.012298, 10977.58341 ,\n",
       "        9094.43834 ,  9493.2649  , 22870.538682, 19844.997654,\n",
       "       16212.20947 ,  6938.656674,  7172.0616  , 25804.07994 ,\n",
       "        5174.39914 ,  7172.9773  , 11557.97759 ,  4166.013686,\n",
       "        4283.983844,  5732.85456 ,  8164.19345 , 22591.631958,\n",
       "        9769.1192  ,  8069.99755 , 12437.2366  ,  4861.10999 ,\n",
       "       10584.94291 , 11015.897706,  3126.20733 , 12367.555366,\n",
       "       10358.92872 , 11472.46692 ,  7585.610988, 12951.959054,\n",
       "        8438.22784 ,  6540.80221 , 10196.063486, 18343.866626,\n",
       "       22831.547852, 12898.898324, 23825.54642 ,  4362.15177 ,\n",
       "       12863.55478 ,  7820.213718,  7294.92623 , 11242.696346,\n",
       "        5828.18577 , 12199.46321 , 16365.915048,  4920.9886  ,\n",
       "       19678.563074, 14356.99191 , 15344.46995 ,  6609.21091 ,\n",
       "       10871.00451 , 10013.675006,  6349.36114 ,  3754.94252 ,\n",
       "       10914.64652 ,  8329.32442 , 25812.27473 ,  9822.970214,\n",
       "       20159.485374, 10746.67958 , 18837.7802  , 20774.060004,\n",
       "       16397.09546 ,  1774.69462 , 10877.489992, 10869.74902 ,\n",
       "       15739.05476 ,  5636.90549 , 20062.11916 ,  6428.240378,\n",
       "       10247.3847  ,  8439.60414 , 13383.29584 , 13600.432548,\n",
       "       10898.092938,  7624.5754  , 11991.51708 , 10471.1526  ,\n",
       "       19098.27058 ,  4801.09202 , 13894.271344,  6678.15434 ,\n",
       "       19364.265152, 11198.77694 ,  8696.5949  ,  5625.255776,\n",
       "       22360.889608, 14191.554334, 13198.800254,  8684.11328 ,\n",
       "       18757.38104 , 26069.207212, 26505.25941 ,  9771.061848,\n",
       "        7914.84776 ,  9402.30108 ,  6629.733018, 11354.115872,\n",
       "       12938.148248,  2945.68882 ,  6223.8542  , 21414.624642,\n",
       "        6575.64245 ,  9319.94366 ,  1774.69462 , 16041.72935 ,\n",
       "        2149.52381 , 23793.037152,  4304.53966 , 12348.773066,\n",
       "        6061.92387 , 10405.86299 , 20514.99782 , 14809.21203 ,\n",
       "        9288.14907 , 20843.07885 ,  6737.748486,  8939.36946 ,\n",
       "       15887.446772,  7595.06651 ,  8672.49379 , 17032.261052,\n",
       "       17810.575032, 21486.146638, 12526.178354,  8138.234102,\n",
       "       19671.668914, 16207.396654, 10584.76563 ,  6793.8054  ,\n",
       "       10497.34672 , 10645.803624,  7771.19753 , 14399.685994,\n",
       "       12783.822382, 13595.2385  , 15822.53623 ,  2203.93387 ,\n",
       "       15727.31853 , 15150.95723 ,  2801.95685 ,  4828.52591 ,\n",
       "       11468.70939 , 16610.51648 , 20020.36653 , 16756.801046,\n",
       "        8684.75546 ,  4353.17616 , 13151.678204,  4487.29627 ,\n",
       "       16064.06408 ,  1477.61714 , 26131.14584 , 13251.46976 ,\n",
       "        8060.714878,  6288.959358,  8384.73339 , 14962.25373 ,\n",
       "       16419.68982 ,  1823.35153 , 17267.21524 , 16241.607184,\n",
       "       14677.22818 , 14085.32174 , 13617.763664,  4728.58472 ,\n",
       "       13613.85513 ,  9110.41302 , 22146.680122, 14453.50156 ,\n",
       "       11589.04398 , 13164.772438,  4558.45613 , 12890.799646,\n",
       "       10995.125   ,  7400.15242 ,  3843.85437 ,  5687.01048 ,\n",
       "       22931.489982, 15666.339934,  9781.16061 , 15352.90256 ,\n",
       "       14382.91282 , 12210.98625 , 12976.87118 ,  2773.68857 ,\n",
       "       13626.421746, 10049.48026 ,  9316.888782,  2362.26801 ,\n",
       "       18511.64846 , 11294.32245 , 13152.140748,  8605.15802 ,\n",
       "        8219.5399  ,  9643.12313 ,  9678.84697 , 29953.328282,\n",
       "       26460.985288,  6983.60565 , 16253.5452  , 12702.19211 ,\n",
       "        8046.6252  ,  9521.089998, 19262.807846,  1778.1066  ,\n",
       "        9930.15463 , 10752.99467 , 18062.2762  ,  6960.2482  ,\n",
       "        4897.31005 ,  5325.87554 ,  5635.8679  , 10373.91368 ,\n",
       "        7388.45051 , 19556.212168, 13870.404874,  9286.98187 ,\n",
       "        7752.8472  ,  9852.697304, 18215.92444 , 14227.59977 ,\n",
       "       10538.30052 , 16796.79688 , 10240.17837 ,  8716.35124 ,\n",
       "        4353.17616 , 19092.84444 , 16019.956318, 10257.23752 ,\n",
       "       25947.988962,  6719.03731 , 11036.96332 , 15207.265018,\n",
       "        1889.35913 , 27378.55809 , 11914.50313 ,  2204.13404 ,\n",
       "        6595.07931 , 12630.21006 ,  3218.90572 , 16408.66096 ,\n",
       "        8896.55258 , 10014.69387 ,  6155.05917 , 16023.70444 ,\n",
       "        6084.72258 ,  8944.81992 , 10885.62173 , 27348.93198 ,\n",
       "       14239.62661 ,  7891.78593 ,  6945.78673 , 20966.25983 ,\n",
       "       14285.43107 ,  3971.719   ])"
      ]
     },
     "execution_count": 63,
     "metadata": {},
     "output_type": "execute_result"
    }
   ],
   "source": [
    "kntest = ne.predict(xtest)\n",
    "kntest"
   ]
  },
  {
   "cell_type": "code",
   "execution_count": 70,
   "metadata": {},
   "outputs": [
    {
     "data": {
      "text/plain": [
       "0.14238605193126064"
      ]
     },
     "execution_count": 70,
     "metadata": {},
     "output_type": "execute_result"
    }
   ],
   "source": [
    "accuracy1 = r2_score(ytest,kntest)\n",
    "accuracy1"
   ]
  },
  {
   "cell_type": "code",
   "execution_count": 68,
   "metadata": {},
   "outputs": [
    {
     "data": {
      "text/plain": [
       "127673643.82655035"
      ]
     },
     "execution_count": 68,
     "metadata": {},
     "output_type": "execute_result"
    }
   ],
   "source": [
    "mse2 = mean_squared_error(ytest,kntest)\n",
    "mse2"
   ]
  },
  {
   "cell_type": "code",
   "execution_count": 69,
   "metadata": {},
   "outputs": [
    {
     "data": {
      "text/plain": [
       "7719.262611340796"
      ]
     },
     "execution_count": 69,
     "metadata": {},
     "output_type": "execute_result"
    }
   ],
   "source": [
    "mae2 = mean_absolute_error(ytest,kntest)\n",
    "mae2"
   ]
  },
  {
   "cell_type": "code",
   "execution_count": 79,
   "metadata": {},
   "outputs": [
    {
     "data": {
      "text/html": [
       "<div>\n",
       "<style scoped>\n",
       "    .dataframe tbody tr th:only-of-type {\n",
       "        vertical-align: middle;\n",
       "    }\n",
       "\n",
       "    .dataframe tbody tr th {\n",
       "        vertical-align: top;\n",
       "    }\n",
       "\n",
       "    .dataframe thead th {\n",
       "        text-align: right;\n",
       "    }\n",
       "</style>\n",
       "<table border=\"1\" class=\"dataframe\">\n",
       "  <thead>\n",
       "    <tr style=\"text-align: right;\">\n",
       "      <th></th>\n",
       "      <th>Name</th>\n",
       "      <th>Accuracy</th>\n",
       "    </tr>\n",
       "  </thead>\n",
       "  <tbody>\n",
       "    <tr>\n",
       "      <th>0</th>\n",
       "      <td>KNN-R_mae</td>\n",
       "      <td>7.719263e+03</td>\n",
       "    </tr>\n",
       "    <tr>\n",
       "      <th>1</th>\n",
       "      <td>KNN-R_mse</td>\n",
       "      <td>1.276736e+08</td>\n",
       "    </tr>\n",
       "    <tr>\n",
       "      <th>2</th>\n",
       "      <td>KNN-R_accuracy</td>\n",
       "      <td>1.423861e-01</td>\n",
       "    </tr>\n",
       "    <tr>\n",
       "      <th>3</th>\n",
       "      <td>LR_mae</td>\n",
       "      <td>4.077181e+03</td>\n",
       "    </tr>\n",
       "    <tr>\n",
       "      <th>4</th>\n",
       "      <td>LR_mse</td>\n",
       "      <td>3.474632e+07</td>\n",
       "    </tr>\n",
       "    <tr>\n",
       "      <th>5</th>\n",
       "      <td>LR_accuracy</td>\n",
       "      <td>7.666008e-01</td>\n",
       "    </tr>\n",
       "  </tbody>\n",
       "</table>\n",
       "</div>"
      ],
      "text/plain": [
       "             Name      Accuracy\n",
       "0       KNN-R_mae  7.719263e+03\n",
       "1       KNN-R_mse  1.276736e+08\n",
       "2  KNN-R_accuracy  1.423861e-01\n",
       "3          LR_mae  4.077181e+03\n",
       "4          LR_mse  3.474632e+07\n",
       "5     LR_accuracy  7.666008e-01"
      ]
     },
     "execution_count": 79,
     "metadata": {},
     "output_type": "execute_result"
    }
   ],
   "source": [
    "data = {'Name':['KNN-R_mae','KNN-R_mse','KNN-R_accuracy','LR_mae','LR_mse','LR_accuracy'],\n",
    "         'Accuracy':[mae2,mse2,accuracy1,mae1,mse1,accuracy]}\n",
    "df_for_barplot = pd.DataFrame(data=data)\n",
    "df_for_barplot.head(6)"
   ]
  },
  {
   "cell_type": "code",
   "execution_count": 76,
   "metadata": {},
   "outputs": [
    {
     "data": {
      "text/plain": [
       "<Axes: xlabel='Accuracy', ylabel='Name'>"
      ]
     },
     "execution_count": 76,
     "metadata": {},
     "output_type": "execute_result"
    },
    {
     "data": {
      "image/png": "[encoded data removed]",
      "text/plain": [
       "<Figure size 640x480 with 1 Axes>"
      ]
     },
     "metadata": {},
     "output_type": "display_data"
    }
   ],
   "source": [
    "sns.barplot(x='Accuracy',y='Name',data=df_for_barplot)"
   ]
  }
 ],
 "metadata": {
  "kernelspec": {
   "display_name": "base",
   "language": "python",
   "name": "python3"
  },
  "language_info": {
   "codemirror_mode": {
    "name": "ipython",
    "version": 3
   },
   "file_extension": ".py",
   "mimetype": "text/x-python",
   "name": "python",
   "nbconvert_exporter": "python",
   "pygments_lexer": "ipython3",
   "version": "3.10.11"
  },
  "orig_nbformat": 4
 },
 "nbformat": 4,
 "nbformat_minor": 2
}
